{
 "cells": [
  {
   "cell_type": "code",
   "execution_count": 1,
   "metadata": {},
   "outputs": [],
   "source": [
    "import pandas as pd\n",
    "from sklearn.feature_extraction.text import TfidfVectorizer\n",
    "from sklearn.metrics.pairwise import cosine_similarity\n",
    "from sklearn.metrics.pairwise import pairwise_distances\n",
    "from sklearn.metrics.pairwise import euclidean_distances\n",
    "from sklearn.preprocessing import StandardScaler"
   ]
  },
  {
   "cell_type": "code",
   "execution_count": 2,
   "metadata": {},
   "outputs": [],
   "source": [
    "wt = pd.read_csv('./weartesters.csv')"
   ]
  },
  {
   "cell_type": "code",
   "execution_count": 3,
   "metadata": {},
   "outputs": [],
   "source": [
    "wt = wt[['Shoes', 'Reviews']]"
   ]
  },
  {
   "cell_type": "code",
   "execution_count": 4,
   "metadata": {},
   "outputs": [],
   "source": [
    "tvec = TfidfVectorizer(stop_words='english')"
   ]
  },
  {
   "cell_type": "code",
   "execution_count": 5,
   "metadata": {},
   "outputs": [],
   "source": [
    "X = tvec.fit_transform(wt['Reviews']).toarray()\n"
   ]
  },
  {
   "cell_type": "code",
   "execution_count": 6,
   "metadata": {},
   "outputs": [],
   "source": [
    "df = pd.DataFrame(X, columns=tvec.get_feature_names(), index=wt.index)"
   ]
  },
  {
   "cell_type": "code",
   "execution_count": 7,
   "metadata": {},
   "outputs": [],
   "source": [
    "cos = pd.DataFrame(cosine_similarity(df, df), columns = df.index)"
   ]
  },
  {
   "cell_type": "code",
   "execution_count": 8,
   "metadata": {},
   "outputs": [],
   "source": [
    "pt = pd.pivot_table(data = cos, columns = cos.columns)"
   ]
  },
  {
   "cell_type": "code",
   "execution_count": 9,
   "metadata": {},
   "outputs": [
    {
     "data": {
      "text/plain": [
       "(532, 532)"
      ]
     },
     "execution_count": 9,
     "metadata": {},
     "output_type": "execute_result"
    }
   ],
   "source": [
    "pt.shape"
   ]
  },
  {
   "cell_type": "code",
   "execution_count": 10,
   "metadata": {},
   "outputs": [],
   "source": [
    "distances = 1-pairwise_distances(pt.T, metric='correlation')"
   ]
  },
  {
   "cell_type": "code",
   "execution_count": 11,
   "metadata": {},
   "outputs": [],
   "source": [
    "ddf = pd.DataFrame(distances,index=wt['Shoes'], columns=wt['Shoes'])"
   ]
  },
  {
   "cell_type": "code",
   "execution_count": 14,
   "metadata": {},
   "outputs": [
    {
     "data": {
      "text/html": [
       "<div>\n",
       "<style scoped>\n",
       "    .dataframe tbody tr th:only-of-type {\n",
       "        vertical-align: middle;\n",
       "    }\n",
       "\n",
       "    .dataframe tbody tr th {\n",
       "        vertical-align: top;\n",
       "    }\n",
       "\n",
       "    .dataframe thead th {\n",
       "        text-align: right;\n",
       "    }\n",
       "</style>\n",
       "<table border=\"1\" class=\"dataframe\">\n",
       "  <thead>\n",
       "    <tr style=\"text-align: right;\">\n",
       "      <th>Shoes</th>\n",
       "      <th>lane eight trainer ad 1</th>\n",
       "      <th>anta kt4</th>\n",
       "      <th>air jordan 33</th>\n",
       "      <th>nike kyrie low</th>\n",
       "      <th>under armour hovr havoc low</th>\n",
       "      <th>puma clyde court disrupt</th>\n",
       "      <th>adidas pro bounce</th>\n",
       "      <th>nike lebron 16</th>\n",
       "      <th>anta nasa seed galaxy</th>\n",
       "      <th>nike kobe ad exodus</th>\n",
       "      <th>...</th>\n",
       "      <th>nike lebron 9</th>\n",
       "      <th>adidas adizero rose</th>\n",
       "      <th>air jordan 8 0</th>\n",
       "      <th>air jordan 8 0</th>\n",
       "      <th>air jordan 2011 q flight/</th>\n",
       "      <th>nike zoom hyperdunk 2011</th>\n",
       "      <th>under armour micro g clutch</th>\n",
       "      <th>nike zoom kd</th>\n",
       "      <th>adidas adizero crazy light</th>\n",
       "      <th>jordan fly wade</th>\n",
       "    </tr>\n",
       "    <tr>\n",
       "      <th>Shoes</th>\n",
       "      <th></th>\n",
       "      <th></th>\n",
       "      <th></th>\n",
       "      <th></th>\n",
       "      <th></th>\n",
       "      <th></th>\n",
       "      <th></th>\n",
       "      <th></th>\n",
       "      <th></th>\n",
       "      <th></th>\n",
       "      <th></th>\n",
       "      <th></th>\n",
       "      <th></th>\n",
       "      <th></th>\n",
       "      <th></th>\n",
       "      <th></th>\n",
       "      <th></th>\n",
       "      <th></th>\n",
       "      <th></th>\n",
       "      <th></th>\n",
       "      <th></th>\n",
       "    </tr>\n",
       "  </thead>\n",
       "  <tbody>\n",
       "    <tr>\n",
       "      <th>lane eight trainer ad 1</th>\n",
       "      <td>1.000000</td>\n",
       "      <td>0.063684</td>\n",
       "      <td>0.143179</td>\n",
       "      <td>0.041777</td>\n",
       "      <td>0.119344</td>\n",
       "      <td>0.123525</td>\n",
       "      <td>0.217355</td>\n",
       "      <td>0.272684</td>\n",
       "      <td>0.156691</td>\n",
       "      <td>0.529262</td>\n",
       "      <td>...</td>\n",
       "      <td>0.035163</td>\n",
       "      <td>0.067156</td>\n",
       "      <td>-0.077201</td>\n",
       "      <td>-0.011274</td>\n",
       "      <td>0.027994</td>\n",
       "      <td>-0.056872</td>\n",
       "      <td>-0.070126</td>\n",
       "      <td>-0.070258</td>\n",
       "      <td>-0.018100</td>\n",
       "      <td>-0.022238</td>\n",
       "    </tr>\n",
       "    <tr>\n",
       "      <th>anta kt4</th>\n",
       "      <td>0.063684</td>\n",
       "      <td>1.000000</td>\n",
       "      <td>0.175797</td>\n",
       "      <td>0.136257</td>\n",
       "      <td>0.018009</td>\n",
       "      <td>0.224417</td>\n",
       "      <td>0.238919</td>\n",
       "      <td>0.220734</td>\n",
       "      <td>0.598702</td>\n",
       "      <td>0.142658</td>\n",
       "      <td>...</td>\n",
       "      <td>0.182989</td>\n",
       "      <td>0.203834</td>\n",
       "      <td>0.048191</td>\n",
       "      <td>0.091309</td>\n",
       "      <td>0.170092</td>\n",
       "      <td>0.097702</td>\n",
       "      <td>0.082829</td>\n",
       "      <td>0.054992</td>\n",
       "      <td>0.093959</td>\n",
       "      <td>0.123848</td>\n",
       "    </tr>\n",
       "    <tr>\n",
       "      <th>air jordan 33</th>\n",
       "      <td>0.143179</td>\n",
       "      <td>0.175797</td>\n",
       "      <td>1.000000</td>\n",
       "      <td>0.330840</td>\n",
       "      <td>0.028743</td>\n",
       "      <td>0.248617</td>\n",
       "      <td>0.346484</td>\n",
       "      <td>0.397841</td>\n",
       "      <td>0.327029</td>\n",
       "      <td>0.315094</td>\n",
       "      <td>...</td>\n",
       "      <td>0.373703</td>\n",
       "      <td>0.506501</td>\n",
       "      <td>0.266361</td>\n",
       "      <td>0.476978</td>\n",
       "      <td>0.519195</td>\n",
       "      <td>0.234229</td>\n",
       "      <td>0.206143</td>\n",
       "      <td>0.185993</td>\n",
       "      <td>0.232764</td>\n",
       "      <td>0.359313</td>\n",
       "    </tr>\n",
       "    <tr>\n",
       "      <th>nike kyrie low</th>\n",
       "      <td>0.041777</td>\n",
       "      <td>0.136257</td>\n",
       "      <td>0.330840</td>\n",
       "      <td>1.000000</td>\n",
       "      <td>0.003096</td>\n",
       "      <td>0.206306</td>\n",
       "      <td>0.281904</td>\n",
       "      <td>0.237390</td>\n",
       "      <td>0.203696</td>\n",
       "      <td>0.263603</td>\n",
       "      <td>...</td>\n",
       "      <td>0.317099</td>\n",
       "      <td>0.344842</td>\n",
       "      <td>0.193442</td>\n",
       "      <td>0.251466</td>\n",
       "      <td>0.316113</td>\n",
       "      <td>0.215550</td>\n",
       "      <td>0.208752</td>\n",
       "      <td>0.202251</td>\n",
       "      <td>0.194651</td>\n",
       "      <td>0.202111</td>\n",
       "    </tr>\n",
       "    <tr>\n",
       "      <th>under armour hovr havoc low</th>\n",
       "      <td>0.119344</td>\n",
       "      <td>0.018009</td>\n",
       "      <td>0.028743</td>\n",
       "      <td>0.003096</td>\n",
       "      <td>1.000000</td>\n",
       "      <td>0.019182</td>\n",
       "      <td>0.088836</td>\n",
       "      <td>0.119248</td>\n",
       "      <td>0.062905</td>\n",
       "      <td>0.107183</td>\n",
       "      <td>...</td>\n",
       "      <td>-0.020766</td>\n",
       "      <td>0.004356</td>\n",
       "      <td>-0.095314</td>\n",
       "      <td>-0.044333</td>\n",
       "      <td>-0.015754</td>\n",
       "      <td>-0.054606</td>\n",
       "      <td>-0.043921</td>\n",
       "      <td>-0.038048</td>\n",
       "      <td>-0.044475</td>\n",
       "      <td>-0.040746</td>\n",
       "    </tr>\n",
       "  </tbody>\n",
       "</table>\n",
       "<p>5 rows × 532 columns</p>\n",
       "</div>"
      ],
      "text/plain": [
       "Shoes                        lane eight trainer ad 1  anta kt4  air jordan 33  \\\n",
       "Shoes                                                                           \n",
       "lane eight trainer ad 1                     1.000000  0.063684       0.143179   \n",
       "anta kt4                                    0.063684  1.000000       0.175797   \n",
       "air jordan 33                               0.143179  0.175797       1.000000   \n",
       "nike kyrie low                              0.041777  0.136257       0.330840   \n",
       "under armour hovr havoc low                 0.119344  0.018009       0.028743   \n",
       "\n",
       "Shoes                        nike kyrie low  under armour hovr havoc low  \\\n",
       "Shoes                                                                      \n",
       "lane eight trainer ad 1            0.041777                     0.119344   \n",
       "anta kt4                           0.136257                     0.018009   \n",
       "air jordan 33                      0.330840                     0.028743   \n",
       "nike kyrie low                     1.000000                     0.003096   \n",
       "under armour hovr havoc low        0.003096                     1.000000   \n",
       "\n",
       "Shoes                        puma clyde court disrupt  adidas pro bounce  \\\n",
       "Shoes                                                                      \n",
       "lane eight trainer ad 1                      0.123525           0.217355   \n",
       "anta kt4                                     0.224417           0.238919   \n",
       "air jordan 33                                0.248617           0.346484   \n",
       "nike kyrie low                               0.206306           0.281904   \n",
       "under armour hovr havoc low                  0.019182           0.088836   \n",
       "\n",
       "Shoes                        nike lebron 16  anta nasa seed galaxy  \\\n",
       "Shoes                                                                \n",
       "lane eight trainer ad 1            0.272684               0.156691   \n",
       "anta kt4                           0.220734               0.598702   \n",
       "air jordan 33                      0.397841               0.327029   \n",
       "nike kyrie low                     0.237390               0.203696   \n",
       "under armour hovr havoc low        0.119248               0.062905   \n",
       "\n",
       "Shoes                        nike kobe ad exodus    ...  nike lebron 9  \\\n",
       "Shoes                                               ...                  \n",
       "lane eight trainer ad 1                   0.529262  ...       0.035163   \n",
       "anta kt4                                  0.142658  ...       0.182989   \n",
       "air jordan 33                             0.315094  ...       0.373703   \n",
       "nike kyrie low                            0.263603  ...       0.317099   \n",
       "under armour hovr havoc low               0.107183  ...      -0.020766   \n",
       "\n",
       "Shoes                          adidas adizero rose  air jordan 8 0    \\\n",
       "Shoes                                                                  \n",
       "lane eight trainer ad 1                   0.067156         -0.077201   \n",
       "anta kt4                                  0.203834          0.048191   \n",
       "air jordan 33                             0.506501          0.266361   \n",
       "nike kyrie low                            0.344842          0.193442   \n",
       "under armour hovr havoc low               0.004356         -0.095314   \n",
       "\n",
       "Shoes                        air jordan 8 0    air jordan 2011 q flight/  \\\n",
       "Shoes                                                                      \n",
       "lane eight trainer ad 1           -0.011274                     0.027994   \n",
       "anta kt4                           0.091309                     0.170092   \n",
       "air jordan 33                      0.476978                     0.519195   \n",
       "nike kyrie low                     0.251466                     0.316113   \n",
       "under armour hovr havoc low       -0.044333                    -0.015754   \n",
       "\n",
       "Shoes                        nike zoom hyperdunk 2011  \\\n",
       "Shoes                                                   \n",
       "lane eight trainer ad 1                     -0.056872   \n",
       "anta kt4                                     0.097702   \n",
       "air jordan 33                                0.234229   \n",
       "nike kyrie low                               0.215550   \n",
       "under armour hovr havoc low                 -0.054606   \n",
       "\n",
       "Shoes                        under armour micro g clutch    nike zoom kd  \\\n",
       "Shoes                                                                      \n",
       "lane eight trainer ad 1                        -0.070126       -0.070258   \n",
       "anta kt4                                        0.082829        0.054992   \n",
       "air jordan 33                                   0.206143        0.185993   \n",
       "nike kyrie low                                  0.208752        0.202251   \n",
       "under armour hovr havoc low                    -0.043921       -0.038048   \n",
       "\n",
       "Shoes                        adidas adizero crazy light  jordan fly wade  \n",
       "Shoes                                                                     \n",
       "lane eight trainer ad 1                       -0.018100        -0.022238  \n",
       "anta kt4                                       0.093959         0.123848  \n",
       "air jordan 33                                  0.232764         0.359313  \n",
       "nike kyrie low                                 0.194651         0.202111  \n",
       "under armour hovr havoc low                   -0.044475        -0.040746  \n",
       "\n",
       "[5 rows x 532 columns]"
      ]
     },
     "execution_count": 14,
     "metadata": {},
     "output_type": "execute_result"
    }
   ],
   "source": [
    "ddf.head()"
   ]
  },
  {
   "cell_type": "code",
   "execution_count": 19,
   "metadata": {},
   "outputs": [
    {
     "name": "stdout",
     "output_type": "stream",
     "text": [
      "  Choose a shoe/Brand: anta kt4\n"
     ]
    },
    {
     "data": {
      "text/plain": [
       "Shoes\n",
       "anta kt3 low             0.801743\n",
       "anta kt3                 0.743719\n",
       "anta kt outdoor 2 low    0.643188\n",
       "anta kt2                 0.636471\n",
       "Name: anta kt4, dtype: float64"
      ]
     },
     "execution_count": 19,
     "metadata": {},
     "output_type": "execute_result"
    }
   ],
   "source": [
    "query = input('  Choose a shoe/Brand: ')\n",
    "query = [col for col in ddf.columns if query in col][0]\n",
    "ddf[query].sort_values(ascending=False)[1:5]"
   ]
  },
  {
   "cell_type": "markdown",
   "metadata": {},
   "source": [
    " \n",
    " \n",
    " "
   ]
  },
  {
   "cell_type": "markdown",
   "metadata": {},
   "source": [
    "\n",
    "\n",
    "\n",
    "\n",
    "\n",
    "\n",
    "\n",
    "\n",
    "\n",
    "\n"
   ]
  },
  {
   "cell_type": "markdown",
   "metadata": {},
   "source": [
    " "
   ]
  },
  {
   "cell_type": "markdown",
   "metadata": {},
   "source": [
    " "
   ]
  },
  {
   "cell_type": "markdown",
   "metadata": {},
   "source": [
    " \n",
    " "
   ]
  },
  {
   "cell_type": "markdown",
   "metadata": {},
   "source": [
    " \n",
    " "
   ]
  },
  {
   "cell_type": "markdown",
   "metadata": {},
   "source": [
    " "
   ]
  },
  {
   "cell_type": "markdown",
   "metadata": {},
   "source": [
    "# Slides"
   ]
  },
  {
   "cell_type": "markdown",
   "metadata": {},
   "source": [
    "https://docs.google.com/presentation/d/1tGby5vxngqg6NHGR5jyhGw-4-Z-B_gpVOm1jc_8CtgU/edit?usp=sharing"
   ]
  }
 ],
 "metadata": {
  "kernelspec": {
   "display_name": "Python 3",
   "language": "python",
   "name": "python3"
  },
  "language_info": {
   "codemirror_mode": {
    "name": "ipython",
    "version": 3
   },
   "file_extension": ".py",
   "mimetype": "text/x-python",
   "name": "python",
   "nbconvert_exporter": "python",
   "pygments_lexer": "ipython3",
   "version": "3.7.6"
  }
 },
 "nbformat": 4,
 "nbformat_minor": 2
}
